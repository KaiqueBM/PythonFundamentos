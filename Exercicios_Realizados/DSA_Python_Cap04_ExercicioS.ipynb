{
  "nbformat": 4,
  "nbformat_minor": 0,
  "metadata": {
    "kernelspec": {
      "display_name": "Python 3",
      "language": "python",
      "name": "python3"
    },
    "language_info": {
      "codemirror_mode": {
        "name": "ipython",
        "version": 3
      },
      "file_extension": ".py",
      "mimetype": "text/x-python",
      "name": "python",
      "nbconvert_exporter": "python",
      "pygments_lexer": "ipython3",
      "version": "3.8.8"
    },
    "colab": {
      "name": "DSA-Python-Cap04-ExercicioS.ipynb",
      "provenance": []
    }
  },
  "cells": [
    {
      "cell_type": "markdown",
      "metadata": {
        "id": "Jg2_rBGqvAYM"
      },
      "source": [
        "# <font color='blue'>Data Science Academy - Python Fundamentos - Capítulo 4</font>\n",
        "\n",
        "## Download: http://github.com/dsacademybr"
      ]
    },
    {
      "cell_type": "code",
      "metadata": {
        "id": "K5kYhuJ8vAYP",
        "outputId": "19cf5a5f-f12d-408b-df4a-7be87822dbe9"
      },
      "source": [
        "# Versão da Linguagem Python\n",
        "from platform import python_version\n",
        "print('Versão da Linguagem Python Usada Neste Jupyter Notebook:', python_version())"
      ],
      "execution_count": null,
      "outputs": [
        {
          "name": "stdout",
          "output_type": "stream",
          "text": [
            "Versão da Linguagem Python Usada Neste Jupyter Notebook: 3.8.8\n"
          ]
        }
      ]
    },
    {
      "cell_type": "markdown",
      "metadata": {
        "id": "0GmspIUqvAYQ"
      },
      "source": [
        "## Exercícios "
      ]
    },
    {
      "cell_type": "code",
      "metadata": {
        "colab": {
          "base_uri": "https://localhost:8080/"
        },
        "id": "Zz3eR6lUvAYQ",
        "outputId": "26b1d7ce-8e3a-42a3-90bc-990293b7b164"
      },
      "source": [
        "# Exercício 1 - Crie uma lista de 3 elementos e calcule a terceira potência de cada elemento.\n",
        "lst = [5, 2, 8]\n",
        "potencia = [n**3 for n in lst]\n",
        "print(potencia)"
      ],
      "execution_count": null,
      "outputs": [
        {
          "output_type": "stream",
          "name": "stdout",
          "text": [
            "[125, 8, 512]\n"
          ]
        }
      ]
    },
    {
      "cell_type": "code",
      "metadata": {
        "colab": {
          "base_uri": "https://localhost:8080/"
        },
        "id": "7ZggYf5IvAYR",
        "outputId": "6e8bc15a-a3a9-4220-b72f-fdfd1889f22d"
      },
      "source": [
        "# Exercício 2 - Reescreva o código abaixo, usando a função map(). O resultado final deve ser o mesmo!\n",
        "palavras = 'A Data Science Academy oferce os melhores cursos de análise de dados do Brasil'.split()\n",
        "# resultado = [[w.upper(), w.lower(), len(w)] for w in palavras]\n",
        "resultado = map(lambda w: [w.upper(), w.lower(), len(w)], palavras)\n",
        "for i in resultado:\n",
        "    print (i)"
      ],
      "execution_count": null,
      "outputs": [
        {
          "output_type": "stream",
          "name": "stdout",
          "text": [
            "['A', 'a', 1]\n",
            "['DATA', 'data', 4]\n",
            "['SCIENCE', 'science', 7]\n",
            "['ACADEMY', 'academy', 7]\n",
            "['OFERCE', 'oferce', 6]\n",
            "['OS', 'os', 2]\n",
            "['MELHORES', 'melhores', 8]\n",
            "['CURSOS', 'cursos', 6]\n",
            "['DE', 'de', 2]\n",
            "['ANÁLISE', 'análise', 7]\n",
            "['DE', 'de', 2]\n",
            "['DADOS', 'dados', 5]\n",
            "['DO', 'do', 2]\n",
            "['BRASIL', 'brasil', 6]\n"
          ]
        }
      ]
    },
    {
      "cell_type": "code",
      "metadata": {
        "colab": {
          "base_uri": "https://localhost:8080/"
        },
        "id": "sneVIsyivAYR",
        "outputId": "aee8c554-e7e4-4384-e8cf-c29ed0a3dc6c"
      },
      "source": [
        "# Exercício 3 - Calcule a matriz transposta da matriz abaixo.\n",
        "# Caso não saiba o que é matriz transposta, visite este link: https://pt.wikipedia.org/wiki/Matriz_transposta\n",
        "# Matriz transposta é um conceito fundamental na construção de redes neurais artificiais, base de sistemas de IA.\n",
        "matrix = [[1, 2],[3,4],[5,6],[7,8]]\n",
        "troca = [[row[i] for row in matrix] for i in range(2)]\n",
        "print(troca)"
      ],
      "execution_count": null,
      "outputs": [
        {
          "output_type": "stream",
          "name": "stdout",
          "text": [
            "[[1, 3, 5, 7], [2, 4, 6, 8]]\n"
          ]
        }
      ]
    },
    {
      "cell_type": "code",
      "metadata": {
        "id": "zss7eKpGvAYS",
        "colab": {
          "base_uri": "https://localhost:8080/"
        },
        "outputId": "889851e0-0bbe-4b54-b667-c806823d10fd"
      },
      "source": [
        "# Exercício 4 - Crie duas funções, uma para elevar um número ao quadrado e outra para elevar ao cubo. \n",
        "# Aplique as duas funções aos elementos da lista abaixo. \n",
        "# Obs: as duas funções devem ser aplicadas simultaneamente.\n",
        "lista = [0, 1, 2, 3, 4]\n",
        "\n",
        "def quadrado(n):\n",
        "  return n**2\n",
        "\n",
        "def cubo(n):\n",
        "  return n**3\n",
        "\n",
        "executar = [quadrado, cubo]\n",
        "for i in lista:\n",
        "  valor = map(lambda v: v(i), executar)\n",
        "  print(list(valor))\n"
      ],
      "execution_count": 19,
      "outputs": [
        {
          "output_type": "stream",
          "name": "stdout",
          "text": [
            "[0, 0]\n",
            "[1, 1]\n",
            "[4, 8]\n",
            "[9, 27]\n",
            "[16, 64]\n"
          ]
        }
      ]
    },
    {
      "cell_type": "code",
      "metadata": {
        "id": "h1YfOu6kvAYS",
        "colab": {
          "base_uri": "https://localhost:8080/"
        },
        "outputId": "7eb3940e-7785-494a-bfdf-4856b7c238a7"
      },
      "source": [
        "# Exercício 5 - Abaixo você encontra duas listas. Faça com que cada elemento da listaA seja elevado \n",
        "# ao elemento correspondente na listaB.\n",
        "listaA = [2, 3, 4]\n",
        "listaB = [10, 11, 12]\n",
        "resultado = [*map(lambda a,b: a**b, listaA, listaB)]\n",
        "print(resultado)\n"
      ],
      "execution_count": 23,
      "outputs": [
        {
          "output_type": "stream",
          "name": "stdout",
          "text": [
            "[1024, 177147, 16777216]\n"
          ]
        }
      ]
    },
    {
      "cell_type": "code",
      "metadata": {
        "id": "mfAqMKGBvAYT",
        "colab": {
          "base_uri": "https://localhost:8080/"
        },
        "outputId": "9a21b8f0-1daf-4f72-a454-f5a8e1e0c1d0"
      },
      "source": [
        "# Exercício 6 - Considerando o range de valores abaixo, use a função filter() para retornar apenas os valores negativos.\n",
        "valores = [*filter(lambda x: x<0, range(-5, 5))]\n",
        "print(valores)"
      ],
      "execution_count": 26,
      "outputs": [
        {
          "output_type": "stream",
          "name": "stdout",
          "text": [
            "[-5, -4, -3, -2, -1]\n"
          ]
        }
      ]
    },
    {
      "cell_type": "code",
      "metadata": {
        "id": "iPhvNySDvAYT",
        "colab": {
          "base_uri": "https://localhost:8080/"
        },
        "outputId": "51946701-aa21-4785-b0bc-c0b76be26e60"
      },
      "source": [
        "# Exercício 7 - Usando a função filter(), encontre os valores que são comuns às duas listas abaixo.\n",
        "a = [1,2,3,5,7,9]\n",
        "b = [2,3,5,6,7,8]\n",
        "comum = [*filter(lambda a: a in b, a)]\n",
        "print(comum)"
      ],
      "execution_count": 29,
      "outputs": [
        {
          "output_type": "stream",
          "name": "stdout",
          "text": [
            "[2, 3, 5, 7]\n"
          ]
        }
      ]
    },
    {
      "cell_type": "code",
      "metadata": {
        "id": "YCQ2SbO5vAYU",
        "colab": {
          "base_uri": "https://localhost:8080/"
        },
        "outputId": "4ce5b89e-51d1-49d4-ecf2-6155300af247"
      },
      "source": [
        "# Exercício 8 - Considere o código abaixo. Obtenha o mesmo resultado usando o pacote time. \n",
        "# Não conhece o pacote time? Pesquise!\n",
        "import datetime\n",
        "print (datetime.datetime.now().strftime(\"%d/%m/%Y %H:%M\"))\n",
        "\n",
        "import time\n",
        "agora = time.localtime()\n",
        "print(agora.tm_mday,\"/\",agora.tm_mon,\"/\",agora.tm_year, agora.tm_hour,\":\",agora.tm_min )\n",
        "#ou\n",
        "print(time.strftime(\"%d/%m/%Y %H:%M\"))"
      ],
      "execution_count": 46,
      "outputs": [
        {
          "output_type": "stream",
          "name": "stdout",
          "text": [
            "16/09/2021 18:36\n",
            "16 / 9 / 2021 18 : 36\n",
            "16/09/2021 18:36\n"
          ]
        }
      ]
    },
    {
      "cell_type": "code",
      "metadata": {
        "id": "tbIiwAuHvAYU",
        "colab": {
          "base_uri": "https://localhost:8080/"
        },
        "outputId": "dcc5a485-2663-4cf0-a99e-cb9d14d6888b"
      },
      "source": [
        "# Exercício 9 - Considere os dois dicionários abaixo. \n",
        "# Crie um terceiro dicionário com as chaves do dicionário 1 e os valores do dicionário 2.\n",
        "dict1 = {'a':1,'b':2}\n",
        "dict2 = {'c':4,'d':5}\n",
        "def troca(d1, d2):\n",
        "  new_dict = {}\n",
        "  for key, val in zip(d1,d2.values()):\n",
        "    new_dict[key] = val\n",
        "  return new_dict\n",
        "\n",
        "print(troca(dict1,dict2))"
      ],
      "execution_count": 47,
      "outputs": [
        {
          "output_type": "stream",
          "name": "stdout",
          "text": [
            "{'a': 4, 'b': 5}\n"
          ]
        }
      ]
    },
    {
      "cell_type": "code",
      "metadata": {
        "id": "2JQcKKt3vAYU",
        "colab": {
          "base_uri": "https://localhost:8080/"
        },
        "outputId": "64944526-2c46-49f6-a264-52bc3dde8fd1"
      },
      "source": [
        "# Exercício 10 - Considere a lista abaixo e retorne apenas os elementos cujo índice for maior que 5.\n",
        "lista = ['a', 'b', 'c', 'd', 'e', 'f', 'g', 'h']\n",
        "for i, v in enumerate(lista):\n",
        "  if i<=5:\n",
        "    continue\n",
        "  else:\n",
        "    print(v)"
      ],
      "execution_count": 48,
      "outputs": [
        {
          "output_type": "stream",
          "name": "stdout",
          "text": [
            "g\n",
            "h\n"
          ]
        }
      ]
    },
    {
      "cell_type": "markdown",
      "metadata": {
        "id": "0s7nWkisvAYV"
      },
      "source": [
        "# Fim"
      ]
    },
    {
      "cell_type": "markdown",
      "metadata": {
        "id": "9wsaHsIivAYV"
      },
      "source": [
        "### Obrigado\n",
        "\n",
        "### Visite o Blog da Data Science Academy - <a href=\"http://blog.dsacademy.com.br\">Blog DSA</a>"
      ]
    }
  ]
}