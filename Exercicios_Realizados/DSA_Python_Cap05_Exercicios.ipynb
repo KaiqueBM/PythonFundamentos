{
  "nbformat": 4,
  "nbformat_minor": 0,
  "metadata": {
    "kernelspec": {
      "display_name": "Python 3",
      "language": "python",
      "name": "python3"
    },
    "language_info": {
      "codemirror_mode": {
        "name": "ipython",
        "version": 3
      },
      "file_extension": ".py",
      "mimetype": "text/x-python",
      "name": "python",
      "nbconvert_exporter": "python",
      "pygments_lexer": "ipython3",
      "version": "3.8.8"
    },
    "colab": {
      "name": "DSA-Python-Cap05-Exercicios.ipynb",
      "provenance": [],
      "collapsed_sections": []
    }
  },
  "cells": [
    {
      "cell_type": "markdown",
      "metadata": {
        "id": "LrWMEmk759rC"
      },
      "source": [
        "# <font color='blue'>Data Science Academy - Python Fundamentos - Capítulo 5</font>\n",
        "\n",
        "## Download: http://github.com/dsacademybr"
      ]
    },
    {
      "cell_type": "code",
      "metadata": {
        "id": "MRW-qpql59rE",
        "outputId": "e33ecbbf-0cd3-4afd-ad1f-64e9bf756a8c"
      },
      "source": [
        "# Versão da Linguagem Python\n",
        "from platform import python_version\n",
        "print('Versão da Linguagem Python Usada Neste Jupyter Notebook:', python_version())"
      ],
      "execution_count": null,
      "outputs": [
        {
          "name": "stdout",
          "output_type": "stream",
          "text": [
            "Versão da Linguagem Python Usada Neste Jupyter Notebook: 3.8.8\n"
          ]
        }
      ]
    },
    {
      "cell_type": "markdown",
      "metadata": {
        "id": "kdoUCIWP59rG"
      },
      "source": [
        "## Exercícios"
      ]
    },
    {
      "cell_type": "code",
      "metadata": {
        "colab": {
          "base_uri": "https://localhost:8080/"
        },
        "id": "ONTkEb3a59rG",
        "outputId": "3db44ab9-b83d-4aed-85b0-be9c79e62e5c"
      },
      "source": [
        "# Exercício 1 - Crie um objeto a partir da classe abaixo, chamado roc1, passando 2 parâmetros e depois faça uma chamada\n",
        "# aos atributos e métodos\n",
        "from math import sqrt\n",
        "\n",
        "class Rocket():\n",
        "     \n",
        "    def __init__(self, x=0, y=0):\n",
        "        self.x = x\n",
        "        self.y = y\n",
        "        \n",
        "    def move_rocket(self, x_increment=0, y_increment=1):\n",
        "        self.x += x_increment\n",
        "        self.y += y_increment\n",
        "        \n",
        "    def print_rocket(self):\n",
        "        print(self.x, self.y)\n",
        "        \n",
        "roc1 = Rocket(5,8)\n",
        "print(roc1.x)  \n",
        "print(roc1.y)  \n",
        "roc1.move_rocket()\n",
        "roc1.print_rocket()"
      ],
      "execution_count": 9,
      "outputs": [
        {
          "output_type": "stream",
          "name": "stdout",
          "text": [
            "5\n",
            "8\n",
            "5 9\n"
          ]
        }
      ]
    },
    {
      "cell_type": "code",
      "metadata": {
        "colab": {
          "base_uri": "https://localhost:8080/",
          "height": 35
        },
        "id": "516aZrtn59rH",
        "outputId": "4d4c1d33-a860-4102-a82e-8ecbe0eb80bc"
      },
      "source": [
        "# Exercício 2 - Crie uma classe chamada Pessoa() com os atributos: nome, cidade, telefone e e-mail. Use pelo menos 2\n",
        "# métodos especiais na sua classe. Crie um objeto da sua classe e faça uma chamada a pelo menos um dos seus métodos\n",
        "# especiais.\n",
        "class Pessoa():\n",
        "  def __init__(self, nome, cidade, telefone, email):\n",
        "    self.nome = nome\n",
        "    self.cidade = cidade \n",
        "    self.telefone = telefone \n",
        "    self.email = email \n",
        "\n",
        "  def __print__(self):\n",
        "    return \"Nome: \"+self.nome+\" Cidade: \"+self.cidade+\" Telefone: \"+self.telefone+\" Email: \"+self.email\n",
        "\n",
        "\n",
        "pessoa1 = Pessoa(\"Kaique\", \"SP\", \"1234-5678\", \"Kaique@gmail.com\")\n",
        "str(pessoa1)"
      ],
      "execution_count": 32,
      "outputs": [
        {
          "output_type": "execute_result",
          "data": {
            "application/vnd.google.colaboratory.intrinsic+json": {
              "type": "string"
            },
            "text/plain": [
              "'<__main__.Pessoa object at 0x7f7e1f419f10>'"
            ]
          },
          "metadata": {},
          "execution_count": 32
        }
      ]
    },
    {
      "cell_type": "code",
      "metadata": {
        "colab": {
          "base_uri": "https://localhost:8080/"
        },
        "id": "z3WQLbwd59rH",
        "outputId": "aef5285f-15c2-4ce6-a98a-8162b902cf59"
      },
      "source": [
        "# Exercício 3 - Crie a classe Smartphone com 2 atributos, tamanho e interface e crie a classe MP3Player com os \n",
        "# atributos capacidade. A classe MP3player deve herdar os atributos da classe Smartphone.\n",
        "class Smartphone():\n",
        "  def __init__(self, tamanho, interface):\n",
        "    self.tamanho = tamanho;\n",
        "    self.interface = interface;\n",
        "\n",
        "class Mp3player(Smartphone):\n",
        "  def __init__(self, capacidade, tamanho = 'Pequeno', interface = 'android'):\n",
        "    self.capacidade = capacidade\n",
        "    Smartphone.__init__(self, tamanho, interface)\n",
        "\n",
        "  def criado(self):\n",
        "    print(\"MP3 | Tamanho: \"+self.tamanho+\" | Interface: \"+self.interface+\" | Capacidade: \"+self.capacidade)\n",
        "\n",
        "p1 = Mp3player(\"64gb\")\n",
        "p1.criado()"
      ],
      "execution_count": 40,
      "outputs": [
        {
          "output_type": "stream",
          "name": "stdout",
          "text": [
            "MP3 | Tamanho: Pequeno | Interface: android | Capacidade: 64gb\n"
          ]
        }
      ]
    },
    {
      "cell_type": "markdown",
      "metadata": {
        "id": "SKMGpcr059rI"
      },
      "source": [
        "### FIM"
      ]
    },
    {
      "cell_type": "markdown",
      "metadata": {
        "id": "d44zuF_w59rI"
      },
      "source": [
        "### Obrigado\n",
        "\n",
        "### Visite o Blog da Data Science Academy - <a href=\"http://blog.dsacademy.com.br\">Blog DSA</a>"
      ]
    }
  ]
}